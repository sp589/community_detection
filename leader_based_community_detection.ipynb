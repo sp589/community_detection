{
  "cells": [
    {
      "cell_type": "markdown",
      "metadata": {
        "id": "view-in-github",
        "colab_type": "text"
      },
      "source": [
        "<a href=\"https://colab.research.google.com/github/sp589/community_detection/blob/main/leader_based_community_detection.ipynb\" target=\"_parent\"><img src=\"https://colab.research.google.com/assets/colab-badge.svg\" alt=\"Open In Colab\"/></a>"
      ]
    },
    {
      "cell_type": "markdown",
      "metadata": {
        "id": "rvHYGlajWhAt"
      },
      "source": [
        "# community detection"
      ]
    },
    {
      "cell_type": "code",
      "execution_count": 1,
      "metadata": {
        "id": "9YgQHIeAWhAy"
      },
      "outputs": [],
      "source": [
        "# import all dependency\n",
        "import time as time\n",
        "import numpy as np\n",
        "import warnings\n",
        "warnings.filterwarnings(\"ignore\", category=UserWarning)\n",
        "import networkx as nx\n",
        "import math as math\n",
        "import pandas as pd\n",
        "import matplotlib.pyplot as plt\n",
        "from random import randint\n",
        "import zipfile"
      ]
    },
    {
      "cell_type": "code",
      "execution_count": 2,
      "metadata": {
        "id": "IBNUK3NzWhA1"
      },
      "outputs": [],
      "source": [
        "# analyissis essential tool\n",
        "def nodelist_to_analysis(node_list,community):\n",
        "    F_node_list=node_list.copy()\n",
        "    for n in range(len(community)):\n",
        "        for m in community[n]:\n",
        "            F_node_list[node_list.index(m)]=n\n",
        "    return F_node_list\n",
        "\n",
        "def nodelist_set(community):\n",
        "    c_set=[]\n",
        "    for i in range((len(community))):\n",
        "        c_set.append(set(community[i]))\n",
        "    return c_set"
      ]
    },
    {
      "cell_type": "code",
      "execution_count": 3,
      "metadata": {
        "id": "X4V9izhYWhA2"
      },
      "outputs": [],
      "source": [
        "def intersection(c, x): \n",
        "    return list(set(c) & set(x))\n",
        "\n",
        "def Union(c, x): \n",
        "    final_list = list(set(c) | set(x))  \n",
        "    return final_list"
      ]
    },
    {
      "cell_type": "code",
      "execution_count": 4,
      "metadata": {
        "id": "m8wDv3TaWhA3"
      },
      "outputs": [],
      "source": [
        "# similarity measure\n",
        "def similarity_measure(leader,i,Graph,method):\n",
        "    if method==\"HDI\":                                 # HDI INDEX METHOD\n",
        "        kx=Graph.degree(leader)\n",
        "        c=[n for n in Graph.neighbors(leader)]\n",
        "        x=[n for n in Graph.neighbors(i)]               \n",
        "        ky=Graph.degree(i)\n",
        "        lenght_of_common_nodes=len(intersection(c, x)) \n",
        "        similarity = lenght_of_common_nodes/(max(kx,ky))\n",
        "        #return similarity\n",
        "    elif method==\"HPI\":                                # HPI INDEX METHOD\n",
        "        kx=Graph.degree(leader)\n",
        "        c=[n for n in Graph.neighbors(leader)]\n",
        "        x=[n for n in Graph.neighbors(i)]               #  \n",
        "        ky=Graph.degree(i)\n",
        "        lenght_of_common_nodes=len(intersection(c, x)) \n",
        "        similarity = lenght_of_common_nodes/(min(kx,ky))\n",
        "        #return similarity\n",
        "    elif method==\"JACCARD\":                           # JACCARD INDEX METHOD\n",
        "        kx=Graph.degree(leader)\n",
        "        c=[n for n in Graph.neighbors(leader)]\n",
        "        x=[n for n in Graph.neighbors(i)]              \n",
        "        lenght_of_common_nodes=len(intersection(c, x)) \n",
        "        lenght_of_union=len(Union(c, x))\n",
        "        if (lenght_of_union>0):\n",
        "            similarity =  lenght_of_common_nodes/ lenght_of_union\n",
        "        else:\n",
        "            similarity=0\n",
        "        #return similarity \n",
        "    elif method==\"myfollower\":\n",
        "        kx=Graph.degree(leader)                        # SALTON INDEX METHOD\n",
        "        c=[n for n in Graph.neighbors(leader)]\n",
        "        x=[n for n in Graph.neighbors(i)] \n",
        "        ky=Graph.degree(i)\n",
        "        #SQ=math.sqrt(kx*ky)\n",
        "        lenght_of_common_nodes=len(intersection(c, x)) \n",
        "        similarity = lenght_of_common_nodes/ky\n",
        "        \n",
        "    else:\n",
        "        kx=Graph.degree(leader)                        # SALTON INDEX METHOD\n",
        "        c=[n for n in Graph.neighbors(leader)]\n",
        "        x=[n for n in Graph.neighbors(i)] \n",
        "        ky=Graph.degree(i)\n",
        "        SQ=math.sqrt(kx*ky)\n",
        "        lenght_of_common_nodes=len(intersection(c, x)) \n",
        "        similarity = lenght_of_common_nodes/SQ\n",
        "    return round(similarity,4)"
      ]
    },
    {
      "cell_type": "code",
      "execution_count": 5,
      "metadata": {
        "id": "7y48C4soWhA4"
      },
      "outputs": [],
      "source": [
        "# plot graph with community\n",
        "def community_show(Graph,community):\n",
        "    color = []\n",
        "    for i in range((len(community))):\n",
        "        color.append('#%06X' % randint(0, 0xFFFFFF)) \n",
        "    nodelist=[n for n in Graph]\n",
        "    color_map=nodelist.copy()\n",
        "    for i in range((len(community))):\n",
        "        for node in Graph:\n",
        "            if node in community[i]:\n",
        "                color_map[nodelist.index(node)]=color[i]\n",
        "    #nx.draw(Graph, node_color=color_map,with_labels=True)\n",
        "    pos = nx.spring_layout(Graph)\n",
        "    import warnings\n",
        "    warnings.filterwarnings('ignore')\n",
        "    plt.style.use('fivethirtyeight')\n",
        "    plt.rcParams['figure.figsize'] = (20, 15)\n",
        "    plt.axis('off')\n",
        "    nx.draw_networkx(Graph,pos, with_labels = True,node_color=color_map, node_size = 35)\n",
        "    plt.show()\n",
        "    #plt.title(\"Graph\")\n",
        "    #plt.savefig((easygui.filesavebox())+\".\"+\"png\")\n",
        "    #plt.show()"
      ]
    },
    {
      "cell_type": "code",
      "execution_count": 6,
      "metadata": {
        "id": "PY_5DMOnWhA5"
      },
      "outputs": [],
      "source": [
        "def leader_selection(Graph,method):\n",
        "    if method==\"EIGEN\":\n",
        "        centrality=nx.eigenvector_centrality(Graph,max_iter=100000000)\n",
        "        c_valu_l=list(centrality.values())\n",
        "        c_node=list(centrality.keys())\n",
        "    elif method==\"BETWEEN\":\n",
        "        centrality=nx.betweenness_centrality(Graph)\n",
        "        c_valu_l=list(centrality.values())\n",
        "        c_node=list(centrality.keys())\n",
        "    else:\n",
        "        centrality=nx.degree_centrality(Graph)\n",
        "        c_valu_l=list(centrality.values())\n",
        "        c_node=list(centrality.keys())\n",
        "    return c_node[c_valu_l.index(max(c_valu_l))]"
      ]
    },
    {
      "cell_type": "code",
      "execution_count": 7,
      "metadata": {
        "id": "OYIOV7ESWhA5"
      },
      "outputs": [],
      "source": [
        "def check_for_node_left(temp_c,temp_r,Graph):\n",
        "    H=Graph.subgraph(temp_r)\n",
        "    connected_components_list=list(nx.connected_components(H))\n",
        "    for i in connected_components_list:\n",
        "        if (len(i))==1:\n",
        "            temp_c.append((list(i))[0])\n",
        "            #temp_r.remove((list(i))[0])\n",
        "    for node in temp_c:\n",
        "        Graph.remove_node(node)\n",
        "    return temp_c,Graph"
      ]
    },
    {
      "cell_type": "code",
      "execution_count": 8,
      "metadata": {
        "id": "n334c2a4WhA6"
      },
      "outputs": [],
      "source": [
        "def Leader_Based(Graph,thershold,sim_method,leader_sel):\n",
        "    community=[]\n",
        "    temp_c=[]\n",
        "    temp_r=[]\n",
        "    while(len(Graph)!=0):\n",
        "        leader=leader_selection(Graph,leader_sel)\n",
        "        for i in Graph:\n",
        "            similarity=similarity_measure(leader,i,Graph,sim_method)\n",
        "            #print(similarity)\n",
        "            if similarity > thershold: \n",
        "                temp_c.append(i)\n",
        "            else:\n",
        "                temp_r.append(i)\n",
        "        com,Graph=check_for_node_left(temp_c,temp_r,Graph)\n",
        "        community.append(com.copy())\n",
        "        temp_c.clear()\n",
        "        temp_r.clear()\n",
        "    #print(\"lbcd\",len(community))\n",
        "    return community"
      ]
    },
    {
      "cell_type": "code",
      "execution_count": 9,
      "metadata": {
        "id": "Oz0Ec_PzWhA6"
      },
      "outputs": [],
      "source": [
        "def real_network(name):\n",
        "    if name==\"football\":\n",
        "        zf=zipfile.ZipFile(\"dataset/football.zip\")\n",
        "        txt=zf.read('football.txt').decode()\n",
        "        gml=zf.read('football.gml').decode()\n",
        "        gml=gml.split('\\n')[1:]\n",
        "        G=nx.parse_gml(gml)\n",
        "    elif name==\"dolphins\":\n",
        "        zf=zipfile.ZipFile(\"dataset/dolphins.zip\")\n",
        "        txt=zf.read('dolphins.txt').decode()\n",
        "        gml=zf.read('dolphins.gml').decode()\n",
        "        gml=gml.split('\\n')[1:]\n",
        "        G=nx.parse_gml(gml)\n",
        "    elif name==\"youtube\":\n",
        "        G= nx.read_edgelist('dataset/youtube-combined.txt', create_using = nx.Graph(), nodetype = int)\n",
        "    else:\n",
        "        G=nx.karate_club_graph()\n",
        "    return G"
      ]
    },
    {
      "cell_type": "markdown",
      "metadata": {
        "id": "yOGnGRbHWhA7"
      },
      "source": [
        "start=time.process_time_ns()\n",
        "#Graph_original=generate_graph(400)\n",
        "Graph_original=real_network(\"youtube\")\n",
        "#nx.draw(,with_labels=False)\n",
        "pos = nx.spring_layout(Graph_original)\n",
        "import warnings\n",
        "warnings.filterwarnings('ignore')\n",
        "plt.style.use('fivethirtyeight')\n",
        "plt.rcParams['figure.figsize'] = (20, 15)\n",
        "plt.axis('off')\n",
        "nx.draw_networkx(Graph_original,pos, with_labels = False, node_size = 35)\n",
        "plt.show()\n",
        "execution=(time.process_time_ns()-start)/(1000000000)\n",
        "print(\"execution time in sec\",execution)\n",
        "#plt.show()"
      ]
    },
    {
      "cell_type": "markdown",
      "metadata": {
        "id": "XUxP0JYXWhA8"
      },
      "source": [
        "#Graph_original=nx.karate_club_graph()\n",
        "Graph_original=generate_graph(400)\n",
        "Graph=Graph_original.copy()\n",
        "nx.draw(Graph,with_labels=True)\n",
        "plt.show"
      ]
    },
    {
      "cell_type": "code",
      "execution_count": 10,
      "metadata": {
        "id": "W8HU5fj_WhA8"
      },
      "outputs": [],
      "source": [
        "from sklearn import metrics\n",
        "from sklearn.metrics.cluster import normalized_mutual_info_score\n",
        "def community_anlysis(GRAPH,node_list,GT,COMM):\n",
        "    n1=nodelist_to_analysis(node_list,GT)\n",
        "    N1=nodelist_to_analysis(node_list,COMM)\n",
        "    COMM_SET=nodelist_set(COMM)\n",
        "    nmi=normalized_mutual_info_score(n1,N1)\n",
        "    ARI=metrics.adjusted_rand_score(n1,N1)\n",
        "    modularity=nx.algorithms.community.modularity(GRAPH,COMM_SET)\n",
        "    #print(\"NMI: \",modularity)\n",
        "    return ARI,nmi,modularity\n",
        "    \n"
      ]
    },
    {
      "cell_type": "code",
      "execution_count": 11,
      "metadata": {
        "id": "Nr_njDqEWhA8"
      },
      "outputs": [],
      "source": [
        "\n",
        "def synthetic_ground_truth(GT):\n",
        "    community_list=[]\n",
        "    community_set=[]    \n",
        "    communities=list(GT)\n",
        "    community_node=[]\n",
        "    for i in range(len(communities)):\n",
        "        community_list.append(list(communities[i])) \n",
        "    for i in range(len(community_list)):\n",
        "        for j in community_list[i]:\n",
        "            community_node.append(j)\n",
        "    return community_node,community_list"
      ]
    },
    {
      "cell_type": "code",
      "execution_count": 12,
      "metadata": {
        "id": "wNSl4-8bWhA7"
      },
      "outputs": [],
      "source": [
        "# synthetic Network\n",
        "from networkx.generators.community import LFR_benchmark_graph as lfr\n",
        "\n",
        "#def generate_graph(n_low, n_high):\n",
        "def generate_graph(n,mu):\n",
        "    #n = np.random.randint(n_low, n_high)\n",
        "    tau1 = 3\n",
        "    tau2 = 1.5\n",
        "    #tau2=1.1\n",
        "    max_iters=100\n",
        "    #mu = np.random.uniform(0.03, 0.5)\n",
        "    #mu=0.5\n",
        "    max_degree = int(0.1 * n)\n",
        "    max_community = int(0.1 * n)\n",
        "    #average_degree = 10\n",
        "    if n<=1000:\n",
        "      average_degree = 8\n",
        "    elif n>1000 and n<=1600:\n",
        "      average_degree = 18\n",
        "    elif n>1600 and n<=2500:\n",
        "      average_degree = 20\n",
        "    elif n>2500 and n<=3000:\n",
        "      average_degree = 28\n",
        "    elif n>3000 and n<=4000:\n",
        "      average_degree= 28\n",
        "    elif n>4000 and n<=4500:\n",
        "      average_degree = 30\n",
        "    elif n==4800:\n",
        "      average_degree = 42\n",
        "    elif n>1000 and n<=5000 and n!=4800:\n",
        "      average_degree = 36\n",
        "    else:\n",
        "      average_degree = 32\n",
        "    G = lfr(\n",
        "        n,\n",
        "        tau1,\n",
        "        tau2,\n",
        "        mu,\n",
        "        average_degree=average_degree,\n",
        "        max_community=max_community,\n",
        "        max_degree=max_degree,\n",
        "        max_iters=10 * n * max_iters,\n",
        "        seed=10\n",
        "    )\n",
        "    return G"
      ]
    },
    {
      "cell_type": "code",
      "execution_count": null,
      "metadata": {
        "colab": {
          "background_save": true,
          "base_uri": "https://localhost:8080/"
        },
        "id": "rw0czQyQWhA-",
        "outputId": "c5002fbb-cd45-4fa3-c9ec-73ce0e997996"
      },
      "outputs": [
        {
          "output_type": "stream",
          "name": "stdout",
          "text": [
            "start for node  2500\n",
            "done for node\n",
            "start for node  2600\n",
            "done for node\n",
            "start for node  2700\n",
            "done for node\n",
            "start for node  2800\n"
          ]
        }
      ],
      "source": [
        "# leader based community detection\n",
        "import numpy as np\n",
        "thershold_range=np.linspace(0.0,0.9,1000,0.001)\n",
        "#thershold_range=[0.073,0.074,0.075,0.076,0.077,0.078,0.079]\n",
        "community_have=[]\n",
        "detected_community=[]\n",
        "node=[]\n",
        "leader=[]\n",
        "siml=[]\n",
        "execution_time=[]\n",
        "PAR_ARI=[]\n",
        "PAR_NMI=[]\n",
        "PAR_mod=[]\n",
        "density=[]\n",
        "simelarity_method=[\"myfollower\"] # \"JACCARD\" ,\"SALTON\" ,\"HDI\", \"HPI\"\n",
        "leader_sel=[\"EIGEN\",\"DEGREE\"]  # \"EIGEN\",\"PAGE\",\"DEGREE\"\n",
        "mu=0.3\n",
        "n=2500\n",
        "n1=n\n",
        "i=0\n",
        "j=0\n",
        "kt=[]\n",
        "node_range=3000\n",
        "while(n<node_range):\n",
        "    Graph_original=generate_graph(n,mu)\n",
        "    communities = {frozenset(Graph_original.nodes[v][\"community\"]) for v in Graph_original}\n",
        "    node_list,GT=synthetic_ground_truth(communities)\n",
        "    print('start for node ',n)\n",
        "    for i in range(len(simelarity_method)):\n",
        "        for j in range(len(leader_sel)):\n",
        "            #start=time.process_time_ns()\n",
        "            for thershold in thershold_range:\n",
        "                Graph=Graph_original.copy()\n",
        "                kr=round(thershold,4)\n",
        "                \n",
        "                #kr=thershold\n",
        "                start=time.process_time_ns()\n",
        "                community1=Leader_Based(Graph,kr,simelarity_method[i],leader_sel[j])\n",
        "                #print('k',kr,'l',len(community1))\n",
        "                kt.append(kr)\n",
        "                execution=(time.process_time_ns()-start)/(1000000000)\n",
        "                #print(\" done kr:\",kr,\"no community\",len(community),end=\"\")\n",
        "                ARI,NMI,mod=community_anlysis(Graph_original,node_list,GT,community1)\n",
        "                PAR_ARI.append(round(ARI,6))\n",
        "                PAR_NMI.append(round(NMI,6))\n",
        "                PAR_mod.append(round(mod,6))\n",
        "                community_have.append(len(GT))\n",
        "                node.append(n)\n",
        "                density.append(nx.density(Graph_original))\n",
        "                detected_community.append(len(community1))\n",
        "                execution_time.append(execution)\n",
        "                leader.append(leader_sel[j])\n",
        "                siml.append(simelarity_method[i])\n",
        "                if (len(community1))>=(len(GT)):\n",
        "                    break\n",
        "            #print(\"s\",simelarity_method[i],\"l\",leader_sel[j])\n",
        "    \n",
        "    print(\"done for node\")\n",
        "    n=n+100\n",
        "DataFrame=pd.DataFrame({'node':node,'density':density,'K':kt,'leader':leader,'similarity_method':siml,'No Community':community_have ,'Detected Community':detected_community,\"MODULARITY\":PAR_mod,\"NMI\":PAR_NMI,\"ARI\":PAR_ARI,\"time\":execution_time}).to_csv('leader_based_community_'+str(n1)+'_'+str(node_range)+'_'+str(mu)+'.csv')\n",
        "print(\"finally done\")\n",
        "    #rint(\"no community\",len(community))\n",
        "    #rint(\"execution time in sec\",execution)"
      ]
    },
    {
      "cell_type": "code",
      "execution_count": null,
      "metadata": {
        "id": "DWWRJH5dWhA_"
      },
      "outputs": [],
      "source": []
    },
    {
      "cell_type": "code",
      "execution_count": null,
      "metadata": {
        "id": "mqXEVl0TWhA9"
      },
      "outputs": [],
      "source": [
        "# leader based community detection\n",
        "thershold=0.3\n",
        "community_have=[]\n",
        "detected_community=[]\n",
        "node=[]\n",
        "execution_time=[]\n",
        "mu=0.3\n",
        "n=2500\n",
        "node_range=2600\n",
        "while(n<node_range):\n",
        "    Graph_original=generate_graph(n,mu)\n",
        "    print(\"density\",nx.density(Graph_original))\n",
        "    communities = {frozenset(Graph_original.nodes[v][\"community\"]) for v in Graph_original}\n",
        "    node_list,GT=synthetic_ground_truth(communities)\n",
        "    #print(len(list(communities)))\n",
        "    simelarity_method=\"HDI\" # \"JACCARD\" ,\"SALTON\" ,\"HDI\", \"HPI\"\n",
        "    leader_sel=\"EIGEN \"  # \"EIGEN\",\"PAGE\",\"DEGREE\"\n",
        "    Graph=Graph_original.copy()\n",
        "    start=time.process_time_ns()\n",
        "    community1=Leader_Based(Graph_original,thershold,simelarity_method,leader_sel)\n",
        "    community_anlysis(Graph,node_list,GT,community1)\n",
        "    execution=(time.process_time_ns()-start)/(1000000000)\n",
        "    print(\"done for no of node:\",n)\n",
        "    node.append(n)\n",
        "    community_have.append(len(GT))\n",
        "    detected_community.append(len(community1))\n",
        "    execution_time.append(execution)\n",
        "    n=n+100\n",
        "    \n",
        "    print(\"no community\",len(community1))\n",
        "    print(\"execution time in sec\")"
      ]
    }
  ],
  "metadata": {
    "colab": {
      "provenance": [],
      "include_colab_link": true
    },
    "kernelspec": {
      "display_name": "Python 3",
      "language": "python",
      "name": "python3"
    },
    "language_info": {
      "codemirror_mode": {
        "name": "ipython",
        "version": 3
      },
      "file_extension": ".py",
      "mimetype": "text/x-python",
      "name": "python",
      "nbconvert_exporter": "python",
      "pygments_lexer": "ipython3",
      "version": "3.7.3"
    }
  },
  "nbformat": 4,
  "nbformat_minor": 0
}